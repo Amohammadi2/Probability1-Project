{
 "cells": [
  {
   "cell_type": "markdown",
   "id": "41f717c6",
   "metadata": {},
   "source": [
    "## Dealing With Discrete Priors\n",
    "\n",
    "According to what's been mentioned in the project file, we are supposed to assume that $\\theta$ is discrete (even though it's a rather unrealistic assumption in my opinion) and can only take 10 possible different values:\n",
    "\n",
    "$$ \\theta = \\{ 0.1, 0.2, \\cdots,  1\\} $$\n",
    "\n",
    "To initiate our bayesian investigations, we first need to choose an appropriate **prior**. In this particular case, it simply means to define a pmf for $\\theta$ based on our intuition and guesswork (maybe). Here's the prior distribution for the random variable $\\theta$ according to the file:\n",
    "\n",
    "$$\n",
    "\\pi_{\\text{Ghader}}(\\theta) = \n",
    "\\begin{cases}\n",
    "0.05, & \\text{if } \\theta = 0.1, 0.2 \\\\\n",
    "0.10, & \\text{if } \\theta = 0.3, 0.4 \\\\\n",
    "0.20, & \\text{if } \\theta = 0.5, 0.6 \\\\\n",
    "0.10, & \\text{if } \\theta = 0.7, 0.8 \\\\\n",
    "0.05, & \\text{if } \\theta = 0.9, 1.0 \\\\\n",
    "\\end{cases}\n",
    "$$\n",
    "\n",
    "This shows our degree of belief in each possible value of $\\theta$ before any real data is observed. What we are aiming for is to readjust this pmf such that it fits our observations more closely. In other words, we wanna find out which values of $\\theta$ are the most probable."
   ]
  },
  {
   "cell_type": "markdown",
   "id": "708e7653",
   "metadata": {},
   "source": [
    "### The Likelihood Function\n",
    "\n",
    "According to the file, we have observed 12 \"yes\"es out of 20 individuals surveyed. Thus, we know our likelihood function is:\n",
    "\n",
    "$$ \\mathcal{L}(\\theta)=\\binom{20}{12}(\\theta)^{12}(1-\\theta)^8 $$\n",
    "\n",
    "(It's just the binomial pmf expressed as a function of $\\theta$ instead of number of successes)\n",
    "\n",
    "Now its the time to calculate the posterior distribution according to the Baye's Theorem:\n",
    "\n",
    "### Implementation:"
   ]
  },
  {
   "cell_type": "code",
   "execution_count": 8,
   "id": "531efb93",
   "metadata": {},
   "outputs": [
    {
     "name": "stdout",
     "output_type": "stream",
     "text": [
      "   theta  prior_pmf  likelihood  unnormalized_posterior  posterior_pmf\n",
      "0    0.1       0.05    0.000000                0.000000       0.000000\n",
      "1    0.2       0.05    0.000087                0.000004       0.000056\n",
      "2    0.3       0.10    0.003859                0.000386       0.004974\n",
      "3    0.4       0.10    0.035497                0.003550       0.045755\n",
      "4    0.5       0.20    0.120134                0.024027       0.309698\n",
      "5    0.6       0.20    0.179706                0.035941       0.463269\n",
      "6    0.7       0.10    0.114397                0.011440       0.147453\n",
      "7    0.8       0.10    0.022161                0.002216       0.028565\n",
      "8    0.9       0.05    0.000356                0.000018       0.000229\n",
      "9    1.0       0.05    0.000000                0.000000       0.000000\n"
     ]
    }
   ],
   "source": [
    "import math\n",
    "import pandas as pd\n",
    "\n",
    "precomputed_binom_coefficient = math.comb(20, 12) # precompute binomial coefficient for optimization\n",
    "\n",
    "prior_df = pd.DataFrame({\n",
    "    'theta': [0.1, 0.2, 0.3, 0.4, 0.5, 0.6, 0.7, 0.8, 0.9, 1.0],\n",
    "    'prior_pmf': [0.05, 0.05, 0.10, 0.10, 0.20, 0.20, 0.10, 0.10, 0.05, 0.05]\n",
    "})\n",
    "\n",
    "def likelihood(theta):\n",
    "    return precomputed_binom_coefficient * (theta ** 12) * ((1 - theta) ** 8)\n",
    "\n",
    "# Calculate unnormalized posteriors\n",
    "prior_df['likelihood'] = prior_df['theta'].apply(likelihood)\n",
    "prior_df['unnormalized_posterior'] = prior_df['prior_pmf'] * prior_df['likelihood']\n",
    "\n",
    "# Normalize to get posterior PMF\n",
    "total_probability = prior_df['unnormalized_posterior'].sum()\n",
    "prior_df['posterior_pmf'] = prior_df['unnormalized_posterior'] / total_probability\n",
    "\n",
    "# Display the results\n",
    "print(prior_df.round(6))"
   ]
  },
  {
   "cell_type": "markdown",
   "id": "8e1974c5",
   "metadata": {},
   "source": [
    "### Answer to the questions (according to the results)\n",
    "\n",
    "1. the most likely value of $\\theta$ in prior distribution: 0.5 & 0.6\n",
    "2. the most likely value of $\\theta$ in posterior distribution: 0.6\n",
    "3. $P(\\theta \\gt 0.5) = \\sum_{i=6}^{10}{P(\\theta=i/10)} = 0.639516$"
   ]
  }
 ],
 "metadata": {
  "kernelspec": {
   "display_name": "venv",
   "language": "python",
   "name": "python3"
  },
  "language_info": {
   "codemirror_mode": {
    "name": "ipython",
    "version": 3
   },
   "file_extension": ".py",
   "mimetype": "text/x-python",
   "name": "python",
   "nbconvert_exporter": "python",
   "pygments_lexer": "ipython3",
   "version": "3.12.9"
  }
 },
 "nbformat": 4,
 "nbformat_minor": 5
}
